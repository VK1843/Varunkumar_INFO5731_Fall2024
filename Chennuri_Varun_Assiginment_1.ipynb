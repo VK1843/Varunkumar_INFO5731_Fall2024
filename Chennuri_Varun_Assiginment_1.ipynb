{
  "cells": [
    {
      "cell_type": "markdown",
      "metadata": {
        "id": "view-in-github",
        "colab_type": "text"
      },
      "source": [
        "<a href=\"https://colab.research.google.com/github/VK1843/Varunkumar_INFO5731_Fall2025/blob/main/Chennuri_Varun_Assiginment_1.ipynb\" target=\"_parent\"><img src=\"https://colab.research.google.com/assets/colab-badge.svg\" alt=\"Open In Colab\"/></a>"
      ]
    },
    {
      "cell_type": "markdown",
      "metadata": {
        "id": "DymRJbxDBCnf"
      },
      "source": [
        "# **INFO5731 Assiginment 1**\n",
        "\n",
        "This exercise covers a variety of fundamental concepts in Python and is designed to help students improve their coding skills and problem-solving abilities.\n",
        "\n",
        "**Expectations**:\n",
        "*   Students are expected to complete the exercise during lecture period to meet the active participation criteria of the course.\n",
        "*   Use the provided .*ipynb* document to write your code & respond to the questions. Avoid generating a new file.\n",
        "*   Write complete answers and run all the cells before submission.\n",
        "*   Make sure the submission is \"clean\"; *i.e.*, no unnecessary code cells.\n",
        "*   Once finished, allow shared rights from top right corner (*see Canvas for details*).\n",
        "\n",
        "**Total points**: 100\n",
        "\n",
        "**Deadline**: This Assiginment-1 is due by Sunday Midnight\n",
        "\n",
        "**Late submissions cannot be considered, and no requests will be answered. Manage your time accordingly.**\n"
      ]
    },
    {
      "cell_type": "markdown",
      "source": [
        "## Question 1\n",
        "Write a Python program that  prompts the user to input the length and width of a rectangle, and then calculates and displays the area of the rectangle."
      ],
      "metadata": {
        "id": "FBKvD6O_TY6e"
      }
    },
    {
      "cell_type": "code",
      "source": [
        "# Area of a rectangle\n",
        "rect_length = float(input(\"Enter the length of the rectangle: \"))\n",
        "rect_breadth = float(input(\"Enter the breadth of the rectangle: \"))\n",
        "\n",
        "rect_area = rect_length * rect_breadth\n",
        "print(\"Area of the rectangle:\", rect_area)\n"
      ],
      "metadata": {
        "id": "cikVKDXdTbzE",
        "colab": {
          "base_uri": "https://localhost:8080/"
        },
        "outputId": "113ad898-d20b-4720-b2bc-569ee10c4676"
      },
      "execution_count": 3,
      "outputs": [
        {
          "output_type": "stream",
          "name": "stdout",
          "text": [
            "Enter the length of the rectangle: 5\n",
            "Enter the breadth of the rectangle: 7\n",
            "Area of the rectangle: 35.0\n"
          ]
        }
      ]
    },
    {
      "cell_type": "markdown",
      "source": [
        "## Question 2\n",
        "Create a Python program that interactively takes two numerical inputs from the user and swaps their values without utilizing an extra variable."
      ],
      "metadata": {
        "id": "E9RqrlwdTfvl"
      }
    },
    {
      "cell_type": "code",
      "source": [
        "# write your answer here\n",
        "# Swap two user-prompted numbers\n",
        "num_a = int(input(\"Enter first number: \"))\n",
        "num_b = int(input(\"Enter second number: \"))\n",
        "\n",
        "print(\"Variables before swapping: num_a:\", num_a, \"num_b:\", num_b)\n",
        "num_a, num_b = num_b, num_a\n",
        "print(\"Variables after swapping: num_a:\", num_a, \"num_b:\", num_b)\n"
      ],
      "metadata": {
        "id": "4XvRknixTh1g",
        "colab": {
          "base_uri": "https://localhost:8080/"
        },
        "outputId": "b847a32d-5633-45ee-d42c-c626523741a0"
      },
      "execution_count": 5,
      "outputs": [
        {
          "output_type": "stream",
          "name": "stdout",
          "text": [
            "Enter first number: 5\n",
            "Enter second number: 8\n",
            "Variables before swapping: num_a: 5 num_b: 8\n",
            "Variables after swapping: num_a: 8 num_b: 5\n"
          ]
        }
      ]
    },
    {
      "cell_type": "markdown",
      "metadata": {
        "id": "03jb4GZsBkBS"
      },
      "source": [
        "## Question 3\n",
        "Write a Python script to determine and print the length of a user-input string."
      ]
    },
    {
      "cell_type": "code",
      "execution_count": 6,
      "metadata": {
        "id": "YaGLbSHHB8Ej",
        "colab": {
          "base_uri": "https://localhost:8080/"
        },
        "outputId": "bbb0e8ea-ddeb-4f12-aacd-6e24dfaa6085"
      },
      "outputs": [
        {
          "output_type": "stream",
          "name": "stdout",
          "text": [
            "Enter a string: Varun\n",
            "Length of the string is: 5\n"
          ]
        }
      ],
      "source": [
        "# write your answer here\n",
        "# Print the length of a user-input string\n",
        "user_string = input(\"Enter a string: \")\n",
        "length = len(user_string)\n",
        "print(\"Length of the string is:\", length)\n",
        "\n"
      ]
    },
    {
      "cell_type": "markdown",
      "metadata": {
        "id": "jJDe71iLB616"
      },
      "source": [
        "## Question 4\n",
        "Construct a Python program that counts and displays the occurrences of each character in a given string.\n",
        "\n",
        "Sample String: 'openai.ai',\n",
        "\n",
        "Expected Result: {'a': 2, 'i': 2, '.': 1, 'o': 1, 'p': 1, 'e': 1, 'n': 1}"
      ]
    },
    {
      "cell_type": "code",
      "execution_count": 7,
      "metadata": {
        "id": "MtKskTzbCLaU",
        "colab": {
          "base_uri": "https://localhost:8080/"
        },
        "outputId": "c64bdbb8-9b0a-44d0-fa22-277e00d62279"
      },
      "outputs": [
        {
          "output_type": "stream",
          "name": "stdout",
          "text": [
            "Enter a string: Varun Kumar\n",
            "Characters in a given string are as follows: {'V': 1, 'a': 2, 'r': 2, 'u': 2, 'n': 1, ' ': 1, 'K': 1, 'm': 1}\n"
          ]
        }
      ],
      "source": [
        "# write your answer here\n",
        "# Count occurrences of each character in a string\n",
        "s = input(\"Enter a string: \")\n",
        "frequency = {}\n",
        "for ch in s:\n",
        "    frequency[ch] = frequency.get(ch, 0) + 1\n",
        "\n",
        "print(\"Characters in a given string are as follows:\", frequency)\n",
        "\n"
      ]
    },
    {
      "cell_type": "markdown",
      "metadata": {
        "id": "55W9AMdXCSpV"
      },
      "source": [
        "## Question 5\n",
        "Design a Python code to calculate the sum of all elements in a user-provided list."
      ]
    },
    {
      "cell_type": "code",
      "execution_count": 32,
      "metadata": {
        "id": "I57NXsauCec2",
        "colab": {
          "base_uri": "https://localhost:8080/"
        },
        "outputId": "878b750b-8b32-4ce6-af81-b7f223fcd843"
      },
      "outputs": [
        {
          "output_type": "stream",
          "name": "stdout",
          "text": [
            "Sum of elements is: 31\n"
          ]
        }
      ],
      "source": [
        "List = [1,2,3,4,5,7,9]\n",
        "Sum = 0\n",
        "for i in range(0, len(List)):\n",
        "  Sum = Sum + List[i]\n",
        "\n",
        "#printing the sum of elements\n",
        "print(\"Sum of elements is:\", Sum)"
      ]
    },
    {
      "cell_type": "markdown",
      "metadata": {
        "id": "4ulBZ6yhCi9F"
      },
      "source": [
        "## Question 6\n",
        "Write a Python program that modifies a given string by replacing all occurrences of its first character with '$', excluding the first character itself.\n",
        "\n",
        "\n",
        "Sample String : 'restart‘\n",
        "Expected Result : 'resta\\$t'"
      ]
    },
    {
      "cell_type": "code",
      "execution_count": 10,
      "metadata": {
        "id": "Fj0XhwbBCw2o",
        "colab": {
          "base_uri": "https://localhost:8080/"
        },
        "outputId": "2eb88336-0ec8-4624-bc7d-9916c071012a"
      },
      "outputs": [
        {
          "output_type": "stream",
          "name": "stdout",
          "text": [
            "Enter a string: restart\n",
            "String after the replacement: resta$t\n"
          ]
        }
      ],
      "source": [
        "# write your answer here\n",
        "# Replace all occurrences of the first character (except the first) with '$'\n",
        "text = input(\"Enter a string: \")\n",
        "if text:\n",
        "    first_char = text[0]\n",
        "    replaced = first_char + text[1:].replace(first_char, '$')\n",
        "else:\n",
        "    replaced = text\n",
        "print(\"String after the replacement:\", replaced)\n"
      ]
    },
    {
      "cell_type": "markdown",
      "source": [
        "## Question 7\n",
        "Write a Python program using a while loop to compute the factorial of a user-supplied number."
      ],
      "metadata": {
        "id": "qVXA3q7ET5JI"
      }
    },
    {
      "cell_type": "code",
      "source": [
        "# write your answer here\n",
        "# Factorial using a while loop\n",
        "n = int(input(\"Enter a non-negative integer: \"))\n",
        "if n < 0:\n",
        "    print(\"Factorial is not defined for negative numbers.\")\n",
        "else:\n",
        "    result = 1\n",
        "    i = 1\n",
        "    while i <= n:\n",
        "        result *= i\n",
        "        i += 1\n",
        "    print(\"Factorial of\", n, \"is\", result)\n"
      ],
      "metadata": {
        "id": "Lbt7R6UkT7BA",
        "colab": {
          "base_uri": "https://localhost:8080/"
        },
        "outputId": "f5ac9b13-f628-4f89-b18c-61c2eb362f06"
      },
      "execution_count": 11,
      "outputs": [
        {
          "output_type": "stream",
          "name": "stdout",
          "text": [
            "Enter a non-negative integer: 2\n",
            "Factorial of 2 is 2\n"
          ]
        }
      ]
    },
    {
      "cell_type": "markdown",
      "source": [
        "## Question 8\n",
        "Create a program that accepts a list of numbers as input and outputs a new list containing only the even numbers."
      ],
      "metadata": {
        "id": "6YfbzXMNT--R"
      }
    },
    {
      "cell_type": "code",
      "source": [
        "# write your answer here\n",
        "# Read a list of integers from the user and print even numbers\n",
        "count = int(input(\"How many elements will you enter? \"))\n",
        "items = []\n",
        "for _ in range(count):\n",
        "    items.append(int(input(\"Enter element: \")))\n",
        "\n",
        "print(\"Even numbers in the list:\", end=\" \")\n",
        "for v in items:\n",
        "    if v % 2 == 0:\n",
        "        print(v, end=\" \")\n",
        "print()\n"
      ],
      "metadata": {
        "id": "54q7wMQPUAKu",
        "colab": {
          "base_uri": "https://localhost:8080/"
        },
        "outputId": "1febe9a3-2005-4875-b5dd-e531216ecc3f"
      },
      "execution_count": 12,
      "outputs": [
        {
          "output_type": "stream",
          "name": "stdout",
          "text": [
            "How many elements will you enter? 3\n",
            "Enter element: 4\n",
            "Enter element: 5\n",
            "Enter element: 6\n",
            "Even numbers in the list: 4 6 \n"
          ]
        }
      ]
    },
    {
      "cell_type": "markdown",
      "metadata": {
        "id": "_bIP7s1MCzue"
      },
      "source": [
        "## Question 9\n",
        "Design a Python function to check if a number is prime.\n"
      ]
    },
    {
      "cell_type": "code",
      "execution_count": 13,
      "metadata": {
        "id": "w79QilHXD3Mg",
        "colab": {
          "base_uri": "https://localhost:8080/"
        },
        "outputId": "686e6aa1-c3b1-4e27-c568-c66d51462da3"
      },
      "outputs": [
        {
          "output_type": "stream",
          "name": "stdout",
          "text": [
            "Enter a number: 12\n",
            "12 is not a prime number\n"
          ]
        }
      ],
      "source": [
        "# write your answer here\n",
        "# Check whether a number is prime\n",
        "n = int(input(\"Enter a number: \"))\n",
        "if n <= 1:\n",
        "    print(n, \"is not a prime number\")\n",
        "else:\n",
        "    for i in range(2, int(n**0.5) + 1):\n",
        "        if n % i == 0:\n",
        "            print(n, \"is not a prime number\")\n",
        "            break\n",
        "    else:\n",
        "        print(n, \"is a prime number\")\n",
        "\n"
      ]
    },
    {
      "cell_type": "markdown",
      "metadata": {
        "id": "xCa2bK9aD4Q3"
      },
      "source": [
        "## Question 10\n",
        "Write a Python program to concatenate following dictionaries to create a new one.\n",
        "\n",
        "Sample Dictionary : dic1={1:10, 2:20}, dic2={3:30, 4:40}, dic3={5:50,6:60},\n",
        "\n",
        "Expected Result : {1: 10, 2: 20, 3: 30, 4: 40, 5: 50, 6: 60}\n"
      ]
    },
    {
      "cell_type": "code",
      "execution_count": 33,
      "metadata": {
        "id": "_z4aLqAbEET1",
        "colab": {
          "base_uri": "https://localhost:8080/"
        },
        "outputId": "5ea4113d-c4ab-427a-8468-a67867430efa"
      },
      "outputs": [
        {
          "output_type": "stream",
          "name": "stdout",
          "text": [
            "Combined dictionary is {1: 10, 2: 20, 3: 30, 4: 40, 5: 50, 6: 60}\n"
          ]
        }
      ],
      "source": [
        "dic1={1:10, 2:20}\n",
        "dic2={3:30, 4:40}\n",
        "dic3={5:50, 6:60}\n",
        "\n",
        "#using concatenate to combine all the dictionaries into a single dictionary\n",
        "Combined_dict = dic1.copy()\n",
        "Combined_dict.update(dic2)\n",
        "Combined_dict.update(dic3)\n",
        "\n",
        "#printing the combined dictionary\n",
        "print (\"Combined dictionary is\", Combined_dict)"
      ]
    },
    {
      "cell_type": "markdown",
      "source": [
        "## Question 11\n",
        "Design a Python function that takes a tuple of integers as input and returns the largest and smallest elements."
      ],
      "metadata": {
        "id": "bkyZ2xSZUOst"
      }
    },
    {
      "cell_type": "code",
      "source": [
        "List =[]\n",
        "\n",
        "#Number of elements that will be accepted from the user as input\n",
        "Number = int(input(\"Enter a number of element: \"))\n",
        "\n",
        "for i in range(0,Number):\n",
        "  element = int(input(\"Enter the element:\"))\n",
        "  List.append(element)\n",
        "\n",
        "#Converting list to tuple\n",
        "Tuple = tuple(List)\n",
        "largest = Tuple[0]\n",
        "smallest = Tuple[0]\n",
        "\n",
        "# calculate the largest and smallest number in the tuple\n",
        "for Number in Tuple:\n",
        "  if Number > largest:\n",
        "    largest = Number\n",
        "  elif Number < smallest:\n",
        "    smallest = Number\n",
        "\n",
        "print(\"Largest number is:\", largest, \"Smallest number is:\",  smallest)"
      ],
      "metadata": {
        "id": "3FdLRBKOUQEd",
        "colab": {
          "base_uri": "https://localhost:8080/"
        },
        "outputId": "c3ba2354-3156-4d88-c429-51bfb7dd2212"
      },
      "execution_count": 35,
      "outputs": [
        {
          "output_type": "stream",
          "name": "stdout",
          "text": [
            "Enter a number of element: 4\n",
            "Enter the element:1\n",
            "Enter the element:2\n",
            "Enter the element:3\n",
            "Enter the element:5\n",
            "Largest number is: 5 Smallest number is: 1\n"
          ]
        }
      ]
    },
    {
      "cell_type": "markdown",
      "source": [
        "## Question 12\n",
        "Write a Python program that counts the frequency of each character in a given string and stores it in a dictionary."
      ],
      "metadata": {
        "id": "O0TVi3gKUTpp"
      }
    },
    {
      "cell_type": "code",
      "source": [
        "# write your answer here\n",
        "# Count frequency of each character and store in a dictionary\n",
        "s = input(\"Enter a string: \")\n",
        "char_freq = {}\n",
        "for ch in s:\n",
        "    char_freq[ch] = char_freq.get(ch, 0) + 1\n",
        "\n",
        "print(\"Character Frequency of the String is:\", char_freq)\n"
      ],
      "metadata": {
        "id": "lAtfSfZXUU-h",
        "colab": {
          "base_uri": "https://localhost:8080/"
        },
        "outputId": "253be283-e3da-44ef-aad9-e599c774ea72"
      },
      "execution_count": 16,
      "outputs": [
        {
          "output_type": "stream",
          "name": "stdout",
          "text": [
            "Enter a string: Varun\n",
            "Character Frequency of the String is: {'V': 1, 'a': 1, 'r': 1, 'u': 1, 'n': 1}\n"
          ]
        }
      ]
    },
    {
      "cell_type": "markdown",
      "metadata": {
        "id": "0v48Vqa7FrQh"
      },
      "source": [
        "## Question 13\n",
        "Implement a Python script to identify duplicate elements in a provided array of integers. Return -1 if there are no duplicates."
      ]
    },
    {
      "cell_type": "code",
      "execution_count": 36,
      "metadata": {
        "id": "7WEmgq-DF2P1",
        "colab": {
          "base_uri": "https://localhost:8080/"
        },
        "outputId": "1b19c60e-9c02-4d53-8100-9c4a7f7d0369"
      },
      "outputs": [
        {
          "output_type": "stream",
          "name": "stdout",
          "text": [
            "Enter a number of element: 3\n",
            "Enter the element:4\n",
            "Enter the element:5\n",
            "Enter the element:5\n",
            "Duplicate element 5\n"
          ]
        }
      ],
      "source": [
        "List =[]\n",
        "\n",
        "#Number of elements that will be accepted from the user as input\n",
        "Number = int(input(\"Enter a number of element: \"))\n",
        "for i in range(0,Number):\n",
        "  element = int(input(\"Enter the element:\"))\n",
        "  List.append(element)\n",
        "\n",
        "my_array = List\n",
        "Array_copy = set()\n",
        "duplicates_found = False\n",
        "\n",
        "#Find duplicates and print appropriate messsage\n",
        "for j in my_array:\n",
        "    if j in Array_copy:\n",
        "      print(\"Duplicate element\", j)\n",
        "      duplicates_found = True\n",
        "\n",
        "    else:\n",
        "      Array_copy.add(j)\n",
        "\n",
        "if not duplicates_found:\n",
        "    print(\"No Duplicates found: Returning -1\")\n"
      ]
    },
    {
      "cell_type": "markdown",
      "metadata": {
        "id": "vD5PYLMuGga_"
      },
      "source": [
        "## Question 14\n",
        "Write a Python script to find the common elements between two lists."
      ]
    },
    {
      "cell_type": "code",
      "execution_count": 20,
      "metadata": {
        "id": "t0D5kdJUGjjw",
        "colab": {
          "base_uri": "https://localhost:8080/"
        },
        "outputId": "ac73244c-874e-4b85-ce3b-60c6aa0351eb"
      },
      "outputs": [
        {
          "output_type": "stream",
          "name": "stdout",
          "text": [
            "Enter number of elements for list1: 2\n",
            "list1 element: 2\n",
            "list1 element: 3\n",
            "Enter number of elements for list2: 4\n",
            "list2 element: 3\n",
            "list2 element: 4\n",
            "list2 element: 5\n",
            "list2 element: 4\n",
            "Common Elements are: [3]\n"
          ]
        }
      ],
      "source": [
        "# write your answer here\n",
        "# Find common elements between two lists\n",
        "n1 = int(input(\"Enter number of elements for list1: \"))\n",
        "list1 = [int(input(\"list1 element: \")) for _ in range(n1)]\n",
        "\n",
        "n2 = int(input(\"Enter number of elements for list2: \"))\n",
        "list2 = [int(input(\"list2 element: \")) for _ in range(n2)]\n",
        "\n",
        "common = list(set(list1).intersection(set(list2)))\n",
        "print(\"Common Elements are:\", common)\n"
      ]
    },
    {
      "cell_type": "markdown",
      "metadata": {
        "id": "uHkd-y5VhVWC"
      },
      "source": [
        "## Question 15\n",
        "Write a Python program to randomly divide the students in this class into maximum of eight groups for term projects, each group should have at least 4 students but no more than 6 students (including 6).\n",
        "\n",
        "Here is the students list:\n",
        "\n",
        "student_list_spring_2024=[rb0846,\n",
        "ac1964,\n",
        "hc0612,\n",
        "md0912,\n",
        "ad1198,\n",
        "md0894,\n",
        "md0825,\n",
        "vg0598,\n",
        "vg0433,\n",
        "mh1068,\n",
        "yj0173,\n",
        "pk0553,\n",
        "tk0411,\n",
        "srk0204,\n",
        "sk2922,\n",
        "sk2936,\n",
        "mk1302,\n",
        "mk1317,\n",
        "tk0412,\n",
        "vk0656,\n",
        "sm2985,\n",
        "mm2372,\n",
        "un0045,\n",
        "an0892,\n",
        "sn0913,\n",
        "gp0252,\n",
        "ap1484,\n",
        "mr1765,\n",
        "sr1385,\n",
        "sr1335,\n",
        "hs0665,\n",
        "ms2060,\n",
        "gt0217,\n",
        "nt0385,\n",
        "tv0186,\n",
        "sv1394,\n",
        "sv1752,\n",
        "sv1555,\n",
        "sy0594\n",
        "]\n"
      ]
    },
    {
      "cell_type": "code",
      "execution_count": 22,
      "metadata": {
        "id": "3iGbmcOBhTwy",
        "colab": {
          "base_uri": "https://localhost:8080/"
        },
        "outputId": "cbb9f739-8d0d-45bd-8d78-9cb4e072fdf2"
      },
      "outputs": [
        {
          "output_type": "stream",
          "name": "stdout",
          "text": [
            "Groups are as follows [['sk2922', 'mh1068', 'ap1484', 'sv1394', 'sn0913', 'md0825'], ['hs0665', 'pk0553', 'hc0612', 'tk0411', 'md0912', 'vk0656'], ['gp0252', 'nt0385', 'yj0173', 'gt0217', 'mm2372', 'mk1317'], ['tk0412', 'an0892', 'sk2936', 'un0045', 'sv1555', 'sr1385'], ['sy0594', 'sv1752', 'vg0433', 'ad1198', 'ms2060'], ['srk0204', 'mk1302', 'tv0186', 'ac1964', 'vg0598'], ['mr1765', 'rb0846', 'sr1335', 'sm2985', 'md0894']]\n"
          ]
        }
      ],
      "source": [
        "# write your answer here\n",
        "import random\n",
        "\n",
        "#creating a list of students ids\n",
        "List = [\"rb0846\", \"ac1964\", \"hc0612\", \"md0912\", \"ad1198\", \"md0894\", \"md0825\", \"vg0598\", \"vg0433\", \"mh1068\", \"yj0173\", \"pk0553\", \"tk0411\", \"srk0204\", \"sk2922\", \"sk2936\", \"mk1302\", \"mk1317\", \"tk0412\", \"vk0656\", \"sm2985\", \"mm2372\", \"un0045\", \"an0892\", \"sn0913\", \"gp0252\", \"ap1484\", \"mr1765\", \"sr1385\", \"sr1335\", \"hs0665\", \"ms2060\", \"gt0217\", \"nt0385\", \"tv0186\", \"sv1394\", \"sv1752\", \"sv1555\", \"sy0594\" ]\n",
        "\n",
        "#randomly suffling the ids\n",
        "random.shuffle(List)\n",
        "\n",
        "#dividing the students into groups between 4-6 and printing it\n",
        "Student_groups=[[] for _ in range(7)]\n",
        "\n",
        "for i in List:\n",
        "  minimum_group = min(Student_groups, key=len)\n",
        "  minimum_group.append(i)\n",
        "\n",
        "print(\"Groups are as follows\", Student_groups)\n",
        "\n",
        "\n",
        "\n"
      ]
    },
    {
      "cell_type": "markdown",
      "metadata": {
        "id": "fmZ9vX20Qs3d"
      },
      "source": [
        "## Question 16\n",
        "Create a program that takes a positive integer 'n' as input and prints the count of even numbers from 1 to 'n'. Optimize the loop using the continue statement."
      ]
    },
    {
      "cell_type": "code",
      "execution_count": 23,
      "metadata": {
        "id": "W8Jw6sWMQs3d",
        "colab": {
          "base_uri": "https://localhost:8080/"
        },
        "outputId": "6b38e35b-c115-4009-9fad-eff507396851"
      },
      "outputs": [
        {
          "output_type": "stream",
          "name": "stdout",
          "text": [
            "Enter n: 2\n",
            "Count of even numbers between 1 to n are: 1\n"
          ]
        }
      ],
      "source": [
        "# write your answer here\n",
        "# Count even numbers between 1 and n\n",
        "n = int(input(\"Enter n: \"))\n",
        "count = 0\n",
        "for i in range(1, n+1):\n",
        "    if i % 2 == 0:\n",
        "        count += 1\n",
        "print(\"Count of even numbers between 1 to n are:\", count)\n"
      ]
    },
    {
      "cell_type": "markdown",
      "metadata": {
        "id": "hvq4APMhQs3d"
      },
      "source": [
        "## Question 17\n",
        "Develop a Python function called 'count_vowels' that takes a string as input and returns the count of vowels (both lowercase and uppercase) present in the string, ignoring spaces and non-alphabetic characters."
      ]
    },
    {
      "cell_type": "code",
      "execution_count": 24,
      "metadata": {
        "id": "ZnoxhSglQs3d",
        "colab": {
          "base_uri": "https://localhost:8080/"
        },
        "outputId": "5a047465-a518-47b7-8411-1f13e9b86bf5"
      },
      "outputs": [
        {
          "output_type": "stream",
          "name": "stdout",
          "text": [
            "Enter a string: Varun Kumar\n",
            "The count of vowels in the string are: 4\n"
          ]
        }
      ],
      "source": [
        "# write your answer here\n",
        "# Function count_vowels that counts vowels in a string\n",
        "def count_vowels(s):\n",
        "    vowels = set(\"aeiouAEIOU\")\n",
        "    return sum(1 for ch in s if ch in vowels)\n",
        "\n",
        "text = input(\"Enter a string: \")\n",
        "result = count_vowels(text)\n",
        "print(\"The count of vowels in the string are:\", result)\n"
      ]
    },
    {
      "cell_type": "markdown",
      "source": [
        "## Question 18\n",
        "Create a custom exception named ValueTooSmallError in Python. Write a program that takes user input for an age, and if the entered age is less than 18, raise the ValueTooSmallError with an appropriate error message."
      ],
      "metadata": {
        "id": "55FWoSJPVVM6"
      }
    },
    {
      "cell_type": "code",
      "source": [
        "# write your answer here\n",
        "# Custom exception demo: ValueTooSmallError\n",
        "class ValueTooSmallError(Exception):\n",
        "    pass\n",
        "\n",
        "try:\n",
        "    age = int(input(\"Enter your age: \"))\n",
        "    if age < 18:\n",
        "        raise ValueTooSmallError(\"Age is too small; must be at least 18.\")\n",
        "    print(\"Age entered correctly. Your age is:\", age)\n",
        "except ValueTooSmallError as e:\n",
        "    print(\"ValueTooSmallError:\", e)\n",
        "except ValueError:\n",
        "    print(\"Invalid input. Please enter an integer.\")\n"
      ],
      "metadata": {
        "id": "hwtr1wZmVX5A",
        "colab": {
          "base_uri": "https://localhost:8080/"
        },
        "outputId": "106e1b8b-052b-4560-86da-2fb6ca5c35e0"
      },
      "execution_count": 26,
      "outputs": [
        {
          "output_type": "stream",
          "name": "stdout",
          "text": [
            "Enter your age: 25\n",
            "Age entered correctly. Your age is: 25\n"
          ]
        }
      ]
    },
    {
      "cell_type": "markdown",
      "source": [
        "## Question 19\n",
        "Develop a script that reverses a given string without using built-in reverse functions."
      ],
      "metadata": {
        "id": "Q9ecagcaVazW"
      }
    },
    {
      "cell_type": "code",
      "source": [
        "# write your answer here\n",
        "# Reverse a given string without using built-in reverse functions\n",
        "s = input(\"Enter a string to reverse: \")\n",
        "rev = \"\"\n",
        "for ch in s:\n",
        "    rev = ch + rev\n",
        "print(\"Reversed string is:\", rev)\n"
      ],
      "metadata": {
        "id": "gycgckoAVZjR",
        "colab": {
          "base_uri": "https://localhost:8080/"
        },
        "outputId": "c1e77cab-0468-4ccc-c457-8945800425ad"
      },
      "execution_count": 27,
      "outputs": [
        {
          "output_type": "stream",
          "name": "stdout",
          "text": [
            "Enter a string to reverse: Varun\n",
            "Reversed string is: nuraV\n"
          ]
        }
      ]
    },
    {
      "cell_type": "markdown",
      "source": [
        "## Question 20\n",
        "Implement a Python script to generate a random password of a specified length."
      ],
      "metadata": {
        "id": "ZFG6RibifMLu"
      }
    },
    {
      "cell_type": "code",
      "source": [
        "# write your answer here\n",
        "# Random password generator\n",
        "import random, string\n",
        "\n",
        "length = int(input(\"Enter desired password length: \"))\n",
        "valid_chars = string.ascii_letters + string.digits + string.punctuation\n",
        "password = ''.join(random.choice(valid_chars) for _ in range(length))\n",
        "print(\"Random generated password is:\", password)\n"
      ],
      "metadata": {
        "id": "BFVrkEi9fNiD",
        "colab": {
          "base_uri": "https://localhost:8080/"
        },
        "outputId": "74aa32b6-b86a-4001-ac1e-4535618bc62b"
      },
      "execution_count": 28,
      "outputs": [
        {
          "output_type": "stream",
          "name": "stdout",
          "text": [
            "Enter desired password length: 6\n",
            "Random generated password is: 2QhtO\\\n"
          ]
        }
      ]
    },
    {
      "cell_type": "markdown",
      "source": [
        "# Try these questions"
      ],
      "metadata": {
        "id": "6SmvS7nSfbj8"
      }
    },
    {
      "cell_type": "markdown",
      "source": [
        "(21) Define a base class called 'Vehicle' with attributes make and model. Create a derived class Car that inherits from Vehicle and has an additional attribute 'num_doors'. Demonstrate an example of creating an instance of the 'Car' class and accessing its attributes."
      ],
      "metadata": {
        "id": "cboAr5pEWUf5"
      }
    },
    {
      "cell_type": "code",
      "source": [
        "# write your answer here\n",
        "# Base class\n",
        "class Vehicle:\n",
        "    def __init__(self, make, model):\n",
        "        self.make = make\n",
        "        self.model = model\n",
        "\n",
        "# Derived class\n",
        "class Car(Vehicle):\n",
        "    def __init__(self, make, model, num_doors):\n",
        "        super().__init__(make, model)  # Call the base class constructor\n",
        "        self.num_doors = num_doors     # Additional attribute for Car\n",
        "\n",
        "# Create an instance of Car\n",
        "my_car = Car(\"Hyundai\", \"Sonata\", 4)\n",
        "\n",
        "# Access attributes\n",
        "print(\"Make:\", my_car.make)\n",
        "print(\"Model:\", my_car.model)\n",
        "print(\"Number of doors:\", my_car.num_doors)\n"
      ],
      "metadata": {
        "id": "phs9gciMWWAW",
        "colab": {
          "base_uri": "https://localhost:8080/"
        },
        "outputId": "5c19bd30-ba65-4f5f-f099-b49503a2ff1b"
      },
      "execution_count": 29,
      "outputs": [
        {
          "output_type": "stream",
          "name": "stdout",
          "text": [
            "Make: Hyundai\n",
            "Model: Sonata\n",
            "Number of doors: 4\n"
          ]
        }
      ]
    },
    {
      "cell_type": "markdown",
      "source": [
        "(22) Create a class called 'Shape' with a method calculate_area(). Implement two derived classes 'Circle' and 'Rectangle' that inherit from Shape and override the calculate_area() method. Demonstrate polymorphism by creating instances of both derived classes and calling the calculate_area() method."
      ],
      "metadata": {
        "id": "J8HHefNtePwd"
      }
    },
    {
      "cell_type": "code",
      "source": [
        "# write your answer here\n",
        "import math\n",
        "\n",
        "# Base class\n",
        "class Shape:\n",
        "    def calculate_area(self):\n",
        "        pass\n",
        "\n",
        "# Derived class for Circle\n",
        "class Circle(Shape):\n",
        "    def __init__(self, radius):\n",
        "        self.radius = radius\n",
        "\n",
        "    def calculate_area(self):\n",
        "        return math.pi * self.radius ** 2\n",
        "\n",
        "# Derived class for Rectangle\n",
        "class Rectangle(Shape):\n",
        "    def __init__(self, length, width):\n",
        "        self.length = length\n",
        "        self.width = width\n",
        "\n",
        "    def calculate_area(self):\n",
        "        return self.length * self.width\n",
        "\n",
        "# Demonstrate polymorphism\n",
        "shapes = [\n",
        "    Circle(5),       # Circle with radius 5\n",
        "    Rectangle(4, 6)  # Rectangle with length 4 and width 6\n",
        "]\n",
        "\n",
        "for shape in shapes:\n",
        "    print(f\"The area is: {shape.calculate_area()}\")\n"
      ],
      "metadata": {
        "id": "btnMmUZDeRhS",
        "colab": {
          "base_uri": "https://localhost:8080/"
        },
        "outputId": "5e8816fe-b63f-462e-e1e9-af342879ed46"
      },
      "execution_count": 30,
      "outputs": [
        {
          "output_type": "stream",
          "name": "stdout",
          "text": [
            "The area is: 78.53981633974483\n",
            "The area is: 24\n"
          ]
        }
      ]
    },
    {
      "cell_type": "markdown",
      "source": [
        "(23) Write a Python program that prompts the user to enter two numbers and perform a division operation. Handle exceptions for both zero division and invalid input (non-numeric input). Display appropriate error messages for each type of exception and ensure the program does not crash due to these errors."
      ],
      "metadata": {
        "id": "z0oqEAlTeMUS"
      }
    },
    {
      "cell_type": "code",
      "source": [
        "# write your answer here\n",
        "try:\n",
        "    # Prompt the user for input\n",
        "    num1 = input(\"Enter the first number: \")\n",
        "    num2 = input(\"Enter the second number: \")\n",
        "\n",
        "    # Convert input to float\n",
        "    num1 = float(num1)\n",
        "    num2 = float(num2)\n",
        "\n",
        "    # Perform division\n",
        "    result = num1 / num2\n",
        "except ValueError:\n",
        "    # Handles non-numeric input\n",
        "    print(\"Error: Please enter valid numeric values.\")\n",
        "except ZeroDivisionError:\n",
        "    # Handles division by zero\n",
        "    print(\"Error: Division by zero is not allowed.\")\n",
        "else:\n",
        "    # Executes if no exception occurs\n",
        "    print(f\"The result of {num1} divided by {num2} is {result}\")\n"
      ],
      "metadata": {
        "id": "yjdc1zM1eMAs",
        "colab": {
          "base_uri": "https://localhost:8080/"
        },
        "outputId": "a25617d6-8155-4677-dece-7c0425bf6605"
      },
      "execution_count": 31,
      "outputs": [
        {
          "output_type": "stream",
          "name": "stdout",
          "text": [
            "Enter the first number: 1\n",
            "Enter the second number: 2\n",
            "The result of 1.0 divided by 2.0 is 0.5\n"
          ]
        }
      ]
    },
    {
      "cell_type": "markdown",
      "source": [
        "# Mandatory Question"
      ],
      "metadata": {
        "id": "sZOhks1dXWEe"
      }
    },
    {
      "cell_type": "markdown",
      "source": [
        "**Important:**\n",
        "Reflecting on the first three lectures and the exercises you've completed, please provide feedback on your learning experience. Share your thoughts on whether the material covered was clear, the exercises were helpful, and if you feel more confident in applying Python programming concepts. Additionally, mention any specific areas where you would like more clarification or topics you would like to explore further in future lectures. Your feedback is valuable in shaping the course for an effective learning journey."
      ],
      "metadata": {
        "id": "eqmHVEwaWhbV"
      }
    },
    {
      "cell_type": "code",
      "source": [
        "'''\n",
        "It's really good and very helpfull for the students who camee with the Zero Coding background, Basically the class started with explaning the basics of Python and explaning how does the LLM models are important,\n",
        "'''"
      ],
      "metadata": {
        "id": "akAVJn9YBTQT"
      },
      "execution_count": null,
      "outputs": []
    }
  ],
  "metadata": {
    "colab": {
      "provenance": [],
      "collapsed_sections": [
        "FBKvD6O_TY6e",
        "E9RqrlwdTfvl",
        "03jb4GZsBkBS",
        "jJDe71iLB616",
        "55W9AMdXCSpV",
        "4ulBZ6yhCi9F",
        "6SmvS7nSfbj8",
        "sZOhks1dXWEe"
      ],
      "include_colab_link": true
    },
    "kernelspec": {
      "display_name": "Python 3 (ipykernel)",
      "language": "python",
      "name": "python3"
    },
    "language_info": {
      "codemirror_mode": {
        "name": "ipython",
        "version": 3
      },
      "file_extension": ".py",
      "mimetype": "text/x-python",
      "name": "python",
      "nbconvert_exporter": "python",
      "pygments_lexer": "ipython3",
      "version": "3.9.12"
    }
  },
  "nbformat": 4,
  "nbformat_minor": 0
}